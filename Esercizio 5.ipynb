{
 "cells": [
  {
   "cell_type": "code",
   "execution_count": 1,
   "metadata": {},
   "outputs": [],
   "source": [
    "from scipy.stats import poisson,norm\n",
    "from math import log\n",
    "#from scipy.integrate import simpson\n",
    "from scipy.optimize import minimize\n",
    "from functools import partial\n",
    "from scipy.integrate import quad\n",
    "import numpy as np\n",
    "from matplotlib import pyplot as plt\n",
    "#from scipy.integrate import cumulative_trapezoid\n",
    "from scipy.stats import chi2\n",
    "np.random.seed(3553)"
   ]
  },
  {
   "cell_type": "code",
   "execution_count": 2,
   "metadata": {},
   "outputs": [],
   "source": [
    "from matplotlib import pyplot as plt\n",
    "plt.rcParams['figure.figsize'] = (12,8)\n",
    "plt.rc('xtick',labelsize=15)\n",
    "plt.rc('ytick',labelsize=15)\n",
    "plt.rc('legend',fontsize=15)\n",
    "plt.rc('font',size=15)"
   ]
  },
  {
   "cell_type": "code",
   "execution_count": 3,
   "metadata": {},
   "outputs": [],
   "source": [
    "def model_poisson(n,s,b):\n",
    "    return poisson(s+b).pmf(n)\n",
    "\n",
    "def model_poisson_2d(n,x):\n",
    "    s = x[0]\n",
    "    b = x[1]\n",
    "    return model_poisson(n,s,b)\n",
    "\n",
    "def constraint_b(b,bmu,sigmab):\n",
    "    return norm(loc=bmu,scale=sigmab).pdf(b)\n",
    "\n",
    "def model_constraint_freq(n,s,b,bbar,sigmab):\n",
    "    return model_poisson(n,s,b)*constraint_b(bbar,b,sigmab)\n",
    "\n",
    "def generate_data(s, b, sigmab):\n",
    "    n1 = np.random.randint(s+b-1.5*np.sqrt(s+b), s+b+1.5*np.sqrt(s+b), 1000000) #cambia i limiti a seconda di caso i o ii\n",
    "    bbar1 = np.random.uniform(b-1.5*sigmab, b+1.5*sigmab, 1000000)\n",
    "    y = model_constraint_freq(n1, s, b, bbar1, sigmab)\n",
    "    y1 = np.random.uniform(0, np.max(y), 1000000)\n",
    "    return n1[y1 <= y][:ndata], bbar1[y1 <= y][:ndata] #accept-reject\n",
    "\n",
    "def model_constraint_2d_freq(n,x,bbar,sigmab):\n",
    "    s = x[0]\n",
    "    b = x[1]\n",
    "    return model_constraint_freq(n,s,b,bbar,sigmab)\n",
    "\n",
    "def nll(model,n,s,b,**kwargs):\n",
    "    return -np.log(model(n,s,b,**kwargs))\n",
    "\n",
    "def nll_2d(model,n,x,**kwargs):\n",
    "    return -np.log(model(n=n,x=x,**kwargs))\n",
    "\n",
    "def testStatistic(model,n,s,b,bestNLL,**kwargs):\n",
    "    return 2*(nll(model=model,n=n,s=s,b=b,**kwargs)-bestNLL)"
   ]
  },
  {
   "cell_type": "code",
   "execution_count": 4,
   "metadata": {},
   "outputs": [],
   "source": [
    "#Case i)\n",
    "s = 50\n",
    "b = 150\n",
    "sigmab = 30"
   ]
  },
  {
   "cell_type": "code",
   "execution_count": 5,
   "metadata": {},
   "outputs": [],
   "source": [
    "#Case ii)\n",
    "s = 5\n",
    "b = 15\n",
    "sigmab = 9.5"
   ]
  },
  {
   "cell_type": "code",
   "execution_count": 6,
   "metadata": {},
   "outputs": [
    {
     "data": {
      "text/plain": [
       "(array([14, 23, 16, 20, 21, 14, 21, 23, 14, 17]),\n",
       " array([ 3.16935214,  5.69426394, 21.21976331, 19.12119522, 20.2024471 ,\n",
       "         7.26297468, 22.50831399,  8.25707213,  7.1294566 ,  7.66315851]))"
      ]
     },
     "execution_count": 6,
     "metadata": {},
     "output_type": "execute_result"
    }
   ],
   "source": [
    "ndata = 10\n",
    "experiment = generate_data(s, b, sigmab)\n",
    "experiment"
   ]
  },
  {
   "cell_type": "code",
   "execution_count": null,
   "metadata": {
    "scrolled": true
   },
   "outputs": [],
   "source": [
    "### Questa cella richiede un po' di tempo per essere eseguita\n",
    "ndata = 1000\n",
    "experiment = generate_data(s, b, sigmab)\n",
    "\n",
    "limit = chi2(1).ppf(0.90) # 95% one sided CL\n",
    "ok_upper_limit = 0\n",
    "\n",
    "for i in range (ndata):\n",
    "\n",
    "    n = experiment[0][i]\n",
    "    bbar = experiment[1][i]\n",
    "    \n",
    "    #res.x[0] è il segnale, res.x[1] il bkg\n",
    "    res = minimize(partial(nll_2d,model_constraint_2d_freq,n,bbar=bbar,sigmab=sigmab),x0=(s,b),bounds=[(0,np.inf),(0,np.inf),])\n",
    "    bestNLL = res.fun\n",
    "    t = np.array([])\n",
    "    \n",
    "    sig = np.linspace(res.x[0]-10, res.x[0]+40, 500)\n",
    "    \n",
    "    print('sbest = %.2f'%(res.x[0]))\n",
    "    for si in sig:\n",
    "        res = minimize(partial(nll,model_constraint_freq,n,si,bbar=bbar,sigmab=sigmab),x0=(b,),bounds=[(0,np.inf),])\n",
    "        t = np.append(t,testStatistic(model=model_constraint_freq,n=n,s=si,b=res.x[0],bestNLL=bestNLL,bbar=bbar,sigmab=sigmab))\n",
    "        \n",
    "    #plt.plot(sig,t,label='Profiled likelihood ratio',lw=1)\n",
    "    idx = (t>limit).argmax()\n",
    "    if(idx != 0):\n",
    "        upper_limit = 0.5*(sig[idx]+sig[idx-1])\n",
    "    else:\n",
    "        upper_limit = sig[idx]\n",
    "    print('sigmab = %.2f, n = %.2f, bbar = %.2f, limit = %.2f, upper limit on s = %.2f'%(sigmab, n, bbar, limit, upper_limit))\n",
    "\n",
    "    #Scrivo su file quanto ottengo -> cambia nome al file nel caso i e ii\n",
    "    file = open(\"UpperLimit_ii.txt\", \"a\")\n",
    "    file.write(str(upper_limit) + \"\\n\")\n",
    "    file.close()\n",
    "\n",
    "    if(upper_limit >= s):\n",
    "        ok_upper_limit = ok_upper_limit + 1\n",
    "        \n",
    "#plt.vlines(upper_limit,0,limit,lw=1,color='r',label=r'$s_{up} = $ %.2f'%(upper_limit) + ' 95% C.L. one-sided')\n",
    "#plt.xlabel('s',fontsize=15)\n",
    "#plt.ylabel('t',fontsize=15)\n",
    "#plt.axhline(limit,color='black',lw=1, label = r'$\\chi^2$ 1 ndof quantile for 95% C.L. one-sided')\n",
    "#plt.legend(loc='best')\n",
    "#plt.grid()"
   ]
  },
  {
   "cell_type": "code",
   "execution_count": 7,
   "metadata": {},
   "outputs": [],
   "source": [
    "#Case i)\n",
    "s = 50\n",
    "b = 150\n",
    "sigmab = 30"
   ]
  },
  {
   "cell_type": "code",
   "execution_count": 8,
   "metadata": {},
   "outputs": [
    {
     "data": {
      "text/plain": [
       "0.9489878542510122"
      ]
     },
     "execution_count": 8,
     "metadata": {},
     "output_type": "execute_result"
    }
   ],
   "source": [
    "sup = np.array([])\n",
    "f = open(\"UpperLimit_i.txt\", \"r\")\n",
    "for line in f.readlines():\n",
    "    sup = np.append(sup, float(line))\n",
    "f.close()\n",
    "\n",
    "coverage = len(sup[sup>s])/len(sup)\n",
    "coverage"
   ]
  },
  {
   "cell_type": "code",
   "execution_count": 9,
   "metadata": {},
   "outputs": [
    {
     "data": {
      "image/png": "[encoded data removed]",
      "text/plain": [
       "<Figure size 864x576 with 1 Axes>"
      ]
     },
     "metadata": {
      "needs_background": "light"
     },
     "output_type": "display_data"
    }
   ],
   "source": [
    "dataf, bins,_ = plt.hist(sup,bins=100,histtype='step',label=r'$s_{up}$ from pseudo experiments')\n",
    "plt.xlabel(r'$s_{up}$')\n",
    "plt.ylabel('Counts')\n",
    "plt.grid(True)\n",
    "plt.axvline(s,color='red',label='$s_{true}$')\n",
    "plt.legend(loc='best')\n",
    "plt.savefig(\"Supi.png\", bbox_inches='tight')"
   ]
  },
  {
   "cell_type": "code",
   "execution_count": 10,
   "metadata": {},
   "outputs": [],
   "source": [
    "#Case ii)\n",
    "s = 5\n",
    "b = 15\n",
    "sigmab = 9.5"
   ]
  },
  {
   "cell_type": "code",
   "execution_count": 11,
   "metadata": {},
   "outputs": [
    {
     "data": {
      "text/plain": [
       "0.9996761133603239"
      ]
     },
     "execution_count": 11,
     "metadata": {},
     "output_type": "execute_result"
    }
   ],
   "source": [
    "sup = np.array([])\n",
    "f = open(\"UpperLimit_ii.txt\", \"r\")\n",
    "for line in f.readlines():\n",
    "    sup = np.append(sup, float(line))\n",
    "f.close()\n",
    "\n",
    "coverage = len(sup[sup>s])/len(sup)\n",
    "coverage"
   ]
  },
  {
   "cell_type": "code",
   "execution_count": 12,
   "metadata": {},
   "outputs": [
    {
     "data": {
      "image/png": "[encoded data removed]",
      "text/plain": [
       "<Figure size 864x576 with 1 Axes>"
      ]
     },
     "metadata": {
      "needs_background": "light"
     },
     "output_type": "display_data"
    }
   ],
   "source": [
    "dataf, bins,_ = plt.hist(sup,bins=100,histtype='step',label=r'$s_{up}$ from pseudo experiments')\n",
    "plt.xlabel(r'$s_{up}$')\n",
    "plt.ylabel('Counts')\n",
    "plt.grid(True)\n",
    "plt.axvline(s,color='red',label='$s_{true}$')\n",
    "plt.legend(loc='best')\n",
    "plt.savefig(\"Supii.png\", bbox_inches='tight')"
   ]
  },
  {
   "cell_type": "code",
   "execution_count": null,
   "metadata": {},
   "outputs": [],
   "source": []
  }
 ],
 "metadata": {
  "kernelspec": {
   "display_name": "Python 3",
   "language": "python",
   "name": "python3"
  },
  "language_info": {
   "codemirror_mode": {
    "name": "ipython",
    "version": 3
   },
   "file_extension": ".py",
   "mimetype": "text/x-python",
   "name": "python",
   "nbconvert_exporter": "python",
   "pygments_lexer": "ipython3",
   "version": "3.8.3"
  }
 },
 "nbformat": 4,
 "nbformat_minor": 4
}
